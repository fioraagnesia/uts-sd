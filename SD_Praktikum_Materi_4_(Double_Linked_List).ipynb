{
  "nbformat": 4,
  "nbformat_minor": 0,
  "metadata": {
    "colab": {
      "provenance": []
    },
    "kernelspec": {
      "name": "python3",
      "display_name": "Python 3"
    },
    "language_info": {
      "name": "python"
    }
  },
  "cells": [
    {
      "cell_type": "markdown",
      "source": [
        "Linear Double Linked List"
      ],
      "metadata": {
        "id": "_XGGckj04e0Q"
      }
    },
    {
      "cell_type": "code",
      "execution_count": null,
      "metadata": {
        "id": "1wQdUbj84aky"
      },
      "outputs": [],
      "source": [
        "class Node:\n",
        "  def __init__(self, data):\n",
        "    self.data = data\n",
        "    self.next = None\n",
        "    self.prev = None\n",
        "\n",
        "class DoubleLinkedList:\n",
        "  def __init__(self):\n",
        "    self.head = None\n",
        "    self.tail = None\n",
        "\n",
        "  # ADD\n",
        "  def add(self, data):\n",
        "    new_node = Node(data)\n",
        "    if self.head == None:\n",
        "      self.head = new_node\n",
        "      self.tail = new_node\n",
        "    else:\n",
        "      temp = self.head\n",
        "      while temp.next:\n",
        "        temp = temp.next\n",
        "      temp.next = new_node\n",
        "      new_node.prev = temp\n",
        "      self.tail = new_node\n",
        "      new_node.next = None\n",
        "\n",
        "    def print(self):\n",
        "      temp = self.head\n",
        "      while temp:\n",
        "        if temp.next != None:\n",
        "          print(temp.data, end=\", \")\n",
        "          temp = temp.next\n",
        "        else:\n",
        "          print(temp.data, end=\"\")\n",
        "          break\n",
        "        print()"
      ]
    },
    {
      "cell_type": "markdown",
      "source": [
        "Circular Double Linked List"
      ],
      "metadata": {
        "id": "TOyPXWbn5oGQ"
      }
    },
    {
      "cell_type": "code",
      "source": [
        "class Node:\n",
        "  def __init__(self, data):\n",
        "    self.data = data\n",
        "    self.next = None\n",
        "    self.prev = None\n",
        "\n",
        "class CircularDLL:\n",
        "  def __init__(self):\n",
        "    self.head = None\n",
        "    self.tail = None\n",
        "\n",
        "  # ADD\n",
        "  def add(self, data):\n",
        "    new_node = Node(data)\n",
        "    if self.head == None:\n",
        "      self.head = new_node\n",
        "      self.tail = new_node\n",
        "    else:\n",
        "      temp = self.head\n",
        "      while temp.next:\n",
        "        temp = temp.next\n",
        "      temp.next = new_node\n",
        "      new_node.prev = temp\n",
        "      self.tail = new_node\n",
        "      new_node.next = None\n",
        "\n",
        "    def print(self):\n",
        "      temp = self.head\n",
        "      while temp:\n",
        "        if temp.next != self.head:\n",
        "          print(temp.data, end=\", \")\n",
        "          temp = temp.next\n",
        "        else:\n",
        "          print(temp.data, end=\"\")\n",
        "          break\n",
        "        print()"
      ],
      "metadata": {
        "id": "Jl9U70ex5pzS"
      },
      "execution_count": null,
      "outputs": []
    }
  ]
}