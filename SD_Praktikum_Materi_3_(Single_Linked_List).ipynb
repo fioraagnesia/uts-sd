{
  "nbformat": 4,
  "nbformat_minor": 0,
  "metadata": {
    "colab": {
      "provenance": []
    },
    "kernelspec": {
      "name": "python3",
      "display_name": "Python 3"
    },
    "language_info": {
      "name": "python"
    }
  },
  "cells": [
    {
      "cell_type": "markdown",
      "source": [
        "Linear Single Linked List"
      ],
      "metadata": {
        "id": "2qRgoUvx3zmQ"
      }
    },
    {
      "cell_type": "code",
      "execution_count": null,
      "metadata": {
        "id": "B2GJhABX2aE3",
        "colab": {
          "base_uri": "https://localhost:8080/"
        },
        "outputId": "be0b5f5b-e38f-4a0a-9cfd-d38d2123f445"
      },
      "outputs": [
        {
          "output_type": "stream",
          "name": "stdout",
          "text": [
            "10, 5, \n"
          ]
        }
      ],
      "source": [
        "class Node():\n",
        "  def __init__(self, data):\n",
        "    self.data = data\n",
        "    self.next = None\n",
        "\n",
        "class LinearSLL():\n",
        "    def __init__(self):\n",
        "      self.head = None\n",
        "\n",
        "    # ADD\n",
        "    def add(self, data):\n",
        "      new_node = Node(data)\n",
        "      if self.head == None:\n",
        "        self.head = new_node\n",
        "        return\n",
        "      else:\n",
        "        temp = self.head\n",
        "        while temp.next != None:\n",
        "          temp = temp.next\n",
        "        temp.next = new_node\n",
        "\n",
        "    # PRINT\n",
        "    def print(self):\n",
        "      temp = self.head\n",
        "      while temp != None:\n",
        "        print(temp.data, end=\", \")\n",
        "        temp = temp.next\n",
        "      print()\n",
        "\n",
        "\n",
        "SLL = LinearSLL()\n",
        "SLL.add(10)\n",
        "SLL.add(5)\n",
        "SLL.print()\n",
        "\n"
      ]
    },
    {
      "cell_type": "markdown",
      "source": [
        "Circular Single Linked List"
      ],
      "metadata": {
        "id": "FUdb00a95P-a"
      }
    },
    {
      "cell_type": "code",
      "source": [
        "class Node():\n",
        "  def __init__(self, data):\n",
        "    self.data = data\n",
        "    self.next = None\n",
        "\n",
        "class CircularSLL():\n",
        "    def __init__(self):\n",
        "      self.head = None\n",
        "\n",
        "    # ADD\n",
        "    def add(self, data):\n",
        "      new_node = Node(data)\n",
        "      if self.head == None:\n",
        "        self.head = new_node\n",
        "        self.head.next = self.head\n",
        "        return\n",
        "      else:\n",
        "        temp = self.head\n",
        "        while temp.next != self.head:\n",
        "          temp = temp.next\n",
        "        temp.next = new_node\n",
        "        new_node.next = self.head   # Biar circular\n",
        "\n",
        "    # PRINT\n",
        "    def print(self):\n",
        "      temp = self.head\n",
        "      while temp != None:\n",
        "        if temp.next != self.head:\n",
        "          print(temp.data, end=\", \")\n",
        "          temp = temp.next\n",
        "        else:\n",
        "          print(temp.data, end=\" \")\n",
        "          break\n",
        "      print()\n",
        "\n",
        "\n",
        "SLL = CircularSLL()\n",
        "SLL.add(10)\n",
        "SLL.add(5)\n",
        "SLL.print()\n"
      ],
      "metadata": {
        "colab": {
          "base_uri": "https://localhost:8080/"
        },
        "id": "VadJ09Or5TR4",
        "outputId": "80d6877b-ff22-41e7-c0cc-c8c720c1d6cc"
      },
      "execution_count": null,
      "outputs": [
        {
          "output_type": "stream",
          "name": "stdout",
          "text": [
            "10, 5 \n"
          ]
        }
      ]
    }
  ]
}