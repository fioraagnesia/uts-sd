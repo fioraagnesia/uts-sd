{
  "nbformat": 4,
  "nbformat_minor": 0,
  "metadata": {
    "colab": {
      "provenance": []
    },
    "kernelspec": {
      "name": "python3",
      "display_name": "Python 3"
    },
    "language_info": {
      "name": "python"
    }
  },
  "cells": [
    {
      "cell_type": "markdown",
      "source": [
        "# STACK"
      ],
      "metadata": {
        "id": "P3exV96I1bTS"
      }
    },
    {
      "cell_type": "markdown",
      "source": [
        "Stack Linked List = LIFO\n",
        "\n",
        "*   Bisa push = menambah, pop = keluarin\n",
        "*   Gaada fungsi laen\n",
        "*   Jd kalo search hrs di pop dulu baru nti di push lg\n",
        "*   Hanya single linked list\n",
        "*   Kalau front dianggep stack paling atas, brarti push itu tmbh depan, pop hapus depan\n",
        "*   Kalo front dianggep stack paling bawah, brarti tmbh blkg hapus blkg\n",
        "\n"
      ],
      "metadata": {
        "id": "h7Ro_-n-1lX9"
      }
    },
    {
      "cell_type": "code",
      "source": [
        "class Node:\n",
        "    def __init__(self, val) :\n",
        "        self.item = val\n",
        "        self.next = None\n",
        "\n",
        "class Stack:\n",
        "    def __init__(self, max):\n",
        "        self.front = None         # Front = paling atas\n",
        "        self.counter = 0\n",
        "        self.max = max\n",
        "\n",
        "    # PUSH = Tambah depan\n",
        "    def push(self, newval):\n",
        "        if self.counter < self.max:\n",
        "            tempnode = Node(newval)\n",
        "            tempnode.next = self.front\n",
        "            self.front = tempnode\n",
        "\n",
        "            self.counter += 1\n",
        "        return self.counter\n",
        "\n",
        "    # POP = Hapus depan\n",
        "    def pop(self):\n",
        "        infopop = None\n",
        "        if self.counter > 0:\n",
        "            stacktemp = self.front.next\n",
        "            infopop = self.front.item\n",
        "            self.front = stacktemp\n",
        "            self.counter -= 1\n",
        "        return infopop\n",
        "\n",
        "    def isNull(self):\n",
        "        if self.counter == 0:\n",
        "            return True\n",
        "        else:\n",
        "            return False\n",
        "\n",
        "    def isFull(self):\n",
        "        if self.counter >= self.max:\n",
        "            return True\n",
        "        else:\n",
        "            return False\n",
        "\n",
        "\n",
        "\n",
        "stack = Stack(3)  # Buat stack yang hanya bisa menyimpan 3 data\n",
        "\n",
        "# Isi stack dengan 3 nilai berbeda\n",
        "x = stack.push(27)\n",
        "x = stack.push(145)\n",
        "x = stack.push(66)\n",
        "\n",
        "if stack.isFull:\n",
        "    print('Stack sudah penuh')\n",
        "\n",
        "# Tambah isi stack\n",
        "x = stack.push(87)  # angka 87 tidak akan tersimpan karena stack sudah terisi 3 data\n",
        "\n",
        "nilaihapus = stack.pop()\n",
        "print('Stack sudah dikurangi 1 baris.')\n",
        "print('Baris yang terbuang:' + str(nilaihapus))\n",
        "\n",
        "# Tambah isi stack\n",
        "x = stack.push(38)\n",
        "\n",
        "# tampilkan seluruh isi stack\n",
        "temp = stack.front\n",
        "for i in range(x):\n",
        "    print('Node: ' + str(temp.item))\n",
        "    temp = temp.next\n"
      ],
      "metadata": {
        "colab": {
          "base_uri": "https://localhost:8080/"
        },
        "id": "Q3TnQKIr1lEu",
        "outputId": "6f3fe237-beb0-4a78-f70d-b6c849a7cdf5"
      },
      "execution_count": null,
      "outputs": [
        {
          "output_type": "stream",
          "name": "stdout",
          "text": [
            "Stack sudah penuh\n",
            "Stack sudah dikurangi 1 baris.\n",
            "Baris yang terbuang:66\n",
            "Node: 38\n",
            "Node: 145\n",
            "Node: 27\n"
          ]
        }
      ]
    },
    {
      "cell_type": "markdown",
      "source": [
        "Stack menggunakan List"
      ],
      "metadata": {
        "id": "7Lbrz0z11srr"
      }
    },
    {
      "cell_type": "code",
      "execution_count": null,
      "metadata": {
        "colab": {
          "base_uri": "https://localhost:8080/"
        },
        "id": "6ANI1dVi1Yy0",
        "outputId": "f3864f47-e054-4b4e-8484-10c6ed15675c"
      },
      "outputs": [
        {
          "output_type": "stream",
          "name": "stdout",
          "text": [
            "66\n",
            "[27, 145, 38]\n"
          ]
        }
      ],
      "source": [
        "stack = []\n",
        "\n",
        "stack.append(27)\n",
        "stack.append(145)\n",
        "stack.append(66)\n",
        "\n",
        "nilaihapus = stack.pop()\n",
        "print(nilaihapus)\n",
        "\n",
        "stack.append(38)\n",
        "\n",
        "print(stack)"
      ]
    },
    {
      "cell_type": "markdown",
      "source": [
        "# QUEUE\n"
      ],
      "metadata": {
        "id": "BM-92K-w3xB8"
      }
    },
    {
      "cell_type": "markdown",
      "source": [
        "Queue Linked List = FIFO\n",
        "*   Masuk belakang, keluar depan (kyk antrian) —> tmbh belakang, hapus depan\n",
        "*   Masuk = enqueue; keluar = dequeue\n",
        "*   First in, first out (FIFO)\n",
        "*   Bisa peek jg utk melihat data paling dpn\n",
        "*   Queue bisa liat front sama back, merupakan list linear\n",
        "\n",
        "\n"
      ],
      "metadata": {
        "id": "yq98b_fa31o9"
      }
    },
    {
      "cell_type": "code",
      "source": [
        "import datetime\n",
        "\n",
        "class Node:\n",
        "    def __init__(self, val, thn, bln, tgl) :\n",
        "        self.item = val\n",
        "        self.date = datetime.date(thn, bln, tgl)\n",
        "        self.next = None\n",
        "        self.prev = None\n",
        "\n",
        "class Queue:\n",
        "    def __init__(self):\n",
        "        self.front = None\n",
        "        self.back = None\n",
        "        self.counter = 0\n",
        "\n",
        "\n",
        "    # ----------------------------------------------------\n",
        "    # Menambah node baru di posisi paling belakang\n",
        "    # ----------------------------------------------------\n",
        "    def enqueue(self, newval, thn, bln, tgl):\n",
        "        newNode = Node(newval, thn, bln, tgl)\n",
        "\n",
        "        newNode.prev = self.back\n",
        "        if (self.counter != 0):\n",
        "            self.back.next = newNode\n",
        "        else:\n",
        "            self.front = newNode\n",
        "        self.back = newNode\n",
        "\n",
        "        self.counter += 1\n",
        "        return self.counter\n",
        "\n",
        "\n",
        "    # ----------------------------------------------------\n",
        "    # Hapus node pada posisi tertentu\n",
        "    # untuk queue, selalu posisi paling awal yang berindex 1\n",
        "    # ----------------------------------------------------\n",
        "    def dequeue(self, index=1):\n",
        "        temp_ptr = self.front\n",
        "\n",
        "        # kalau yg dihapus adalah node pertama,\n",
        "        # ubah pointer front menuju node kedua\n",
        "        if index == 1:\n",
        "            self.front = temp_ptr.next\n",
        "        # kalau tidak, lompat ke posisi yg dituju\n",
        "        else:\n",
        "            for i in range(index-1):\n",
        "                temp_ptr = temp_ptr.next\n",
        "\n",
        "        node_after  = temp_ptr.next\n",
        "        node_before = temp_ptr.prev\n",
        "        if node_after != None:\n",
        "            node_after.prev = node_before\n",
        "        if node_before != None:\n",
        "            node_before.next = node_after\n",
        "\n",
        "        self.counter = self.counter - 1\n",
        "\n",
        "\n",
        "    # ----------------------------------------------------\n",
        "    # Tampilkan seluruh node di dalam list\n",
        "    # ----------------------------------------------------\n",
        "    def tampil(self):\n",
        "        temp = self.front\n",
        "        print('--------------------------------------')\n",
        "\n",
        "        for i in range(self.counter):\n",
        "            # Tampilkan pointer prev\n",
        "            if temp.prev != None:  print(temp.prev.item,'<--| ',end=\"\")\n",
        "            else:  print('  None <--| ',end=\"\")\n",
        "\n",
        "            # Tampilkan nama node\n",
        "            print(temp.item, temp.date, end=\"\")\n",
        "\n",
        "            # Tampilkan pointer next\n",
        "            if temp.next != None:  print(' |--> '+temp.next.item)\n",
        "            else:  print(' |--> None')\n",
        "\n",
        "            temp = temp.next\n",
        "            print('--------------------------------------')\n",
        "\n",
        "\n",
        "    # ----------------------------------------------------\n",
        "    # Hapus elemen queue yang sudah expired\n",
        "    # ----------------------------------------------------\n",
        "    def hapusExpired(self,ExpDate):\n",
        "        # Buat fungsi untuk menghapus isi queue yang date <= ExpDate\n",
        "        return False\n",
        "\n",
        "\n",
        "def SetExpiryDate(jml):\n",
        "    return HariIni + datetime.timedelta(days=jml)\n",
        "\n",
        "\n",
        "\n",
        "q = Queue()\n",
        "x = q.enqueue(\"Indomie\",2024,9,26)\n",
        "x = q.enqueue(\"Samyang\",2024,9,28)\n",
        "x = q.enqueue(\"Momofuku\",2024,10,3)\n",
        "x = q.enqueue(\"Ichiran\",2024,10,6)\n",
        "x = q.enqueue(\"Nongshim 5\",2024,10,15)\n",
        "q.tampil()\n",
        "\n",
        "print('==============================================================')\n",
        "q.dequeue()\n",
        "q.tampil()\n",
        "\n",
        "print('==============================================================')\n",
        "\n",
        "HariIni = datetime.date(2024,9,26)  # set tanggal hari ini 26 Sept 2024\n",
        "ExpiryDate = SetExpiryDate(6)       # set expiry date = 6 hari setelah 26 Sept 2024\n",
        "print(\"Expiry Date = \",ExpiryDate)\n",
        "\n",
        "q.hapusExpired(ExpiryDate)\n",
        "q.tampil()\n"
      ],
      "metadata": {
        "colab": {
          "base_uri": "https://localhost:8080/"
        },
        "id": "CQNR8tsb4Ual",
        "outputId": "de12cddb-71fe-40ff-8c3a-e0d9d0e693df"
      },
      "execution_count": null,
      "outputs": [
        {
          "output_type": "stream",
          "name": "stdout",
          "text": [
            "--------------------------------------\n",
            "  None <--| Indomie 2024-09-26 |--> Samyang\n",
            "--------------------------------------\n",
            "Indomie <--| Samyang 2024-09-28 |--> Momofuku\n",
            "--------------------------------------\n",
            "Samyang <--| Momofuku 2024-10-03 |--> Ichiran\n",
            "--------------------------------------\n",
            "Momofuku <--| Ichiran 2024-10-06 |--> Nongshim 5\n",
            "--------------------------------------\n",
            "Ichiran <--| Nongshim 5 2024-10-15 |--> None\n",
            "--------------------------------------\n",
            "==============================================================\n",
            "--------------------------------------\n",
            "  None <--| Samyang 2024-09-28 |--> Momofuku\n",
            "--------------------------------------\n",
            "Samyang <--| Momofuku 2024-10-03 |--> Ichiran\n",
            "--------------------------------------\n",
            "Momofuku <--| Ichiran 2024-10-06 |--> Nongshim 5\n",
            "--------------------------------------\n",
            "Ichiran <--| Nongshim 5 2024-10-15 |--> None\n",
            "--------------------------------------\n",
            "==============================================================\n",
            "Expiry Date =  2024-10-02\n",
            "--------------------------------------\n",
            "  None <--| Samyang 2024-09-28 |--> Momofuku\n",
            "--------------------------------------\n",
            "Samyang <--| Momofuku 2024-10-03 |--> Ichiran\n",
            "--------------------------------------\n",
            "Momofuku <--| Ichiran 2024-10-06 |--> Nongshim 5\n",
            "--------------------------------------\n",
            "Ichiran <--| Nongshim 5 2024-10-15 |--> None\n",
            "--------------------------------------\n"
          ]
        }
      ]
    },
    {
      "cell_type": "markdown",
      "source": [
        "Queue menggunakan List"
      ],
      "metadata": {
        "id": "N6SeukOr4VTL"
      }
    },
    {
      "cell_type": "code",
      "source": [
        "queue = []\n",
        "\n",
        "queue.append(27)\n",
        "queue.append(145)\n",
        "queue.append(66)\n",
        "\n",
        "nilaihapus = queue.pop(0)\n",
        "print(nilaihapus)\n",
        "\n",
        "queue.append(38)\n",
        "\n",
        "print(queue)"
      ],
      "metadata": {
        "colab": {
          "base_uri": "https://localhost:8080/"
        },
        "id": "tP3SRluL4xyJ",
        "outputId": "ca3d7979-ff06-42ea-d3dc-a72212687b79"
      },
      "execution_count": null,
      "outputs": [
        {
          "output_type": "stream",
          "name": "stdout",
          "text": [
            "27\n",
            "[145, 66, 38]\n"
          ]
        }
      ]
    }
  ]
}