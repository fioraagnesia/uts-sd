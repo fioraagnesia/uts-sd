{
  "nbformat": 4,
  "nbformat_minor": 0,
  "metadata": {
    "colab": {
      "provenance": []
    },
    "kernelspec": {
      "name": "python3",
      "display_name": "Python 3"
    },
    "language_info": {
      "name": "python"
    }
  },
  "cells": [
    {
      "cell_type": "markdown",
      "source": [
        "1. Menggunakan python, buatlah sebuah fungsi rekursif untuk menghitung pangkat dari dua bilangan bulat positif x dan y, dimana x dipangkatkan dengan y. Tunjukkan hasil perhitungannya (2^3 = 2 x 2 x 2 = 8)"
      ],
      "metadata": {
        "id": "eEg1k_kUz8L4"
      }
    },
    {
      "cell_type": "code",
      "execution_count": null,
      "metadata": {
        "colab": {
          "base_uri": "https://localhost:8080/"
        },
        "id": "HTqqzMFwz2FJ",
        "outputId": "c15d999e-1a41-4594-d715-11a993daab25"
      },
      "outputs": [
        {
          "output_type": "stream",
          "name": "stdout",
          "text": [
            "nilai x: 2\n",
            "nilai y: 3\n",
            "2 ^ 3 = 2 x 2 x 2 = 8\n"
          ]
        }
      ],
      "source": [
        "# No 1\n",
        "def pangkat(x, y):\n",
        "    if y == 0:\n",
        "      return 1\n",
        "    else:\n",
        "      if y == 1:\n",
        "        print(x, \"=\", end = \" \")\n",
        "      else:\n",
        "        print(x, \"x\", end = \" \")\n",
        "      return x * pangkat(x, y-1)\n",
        "\n",
        "x_value = int(input(\"nilai x: \"))\n",
        "y_value = int(input(\"nilai y: \"))\n",
        "print(x_value, \"^\", y_value, \"=\", end = \" \")\n",
        "print(pangkat(x_value, y_value))\n",
        "\n"
      ]
    },
    {
      "cell_type": "markdown",
      "source": [
        "2. Buatlah sebuah fungsi rekursif untuk menghitung faktorial dari suatu bilangan bulat positif n, kemudian bagi hasil faktorial dengan bilangan bulat positif k. Tunjukkan hasil perhitungan faktorialnya dengan urut. Contoh : n = 5, k = 2\n",
        "faktorial dari 5 adalah 5 x 4 x 3 x 2 x 1 = 120 hasil bagi faktorial 5 dengan 2 adalah 120 / 2 = 60"
      ],
      "metadata": {
        "id": "dxFKW5ZtDA__"
      }
    },
    {
      "cell_type": "code",
      "source": [
        "# No 2\n",
        "def faktorial(n):\n",
        "    if n == 0:\n",
        "        return 1\n",
        "    else:\n",
        "        if n == 1:\n",
        "            print(n, \"=\", end = \" \")\n",
        "        else:\n",
        "            print(n, \"x\", end = \" \")\n",
        "        return n * faktorial(n-1)\n",
        "\n",
        "n_value = int(input(\"nilai n: \"))\n",
        "k_value = int(input(\"nilai k: \"))\n",
        "print(n_value, \"! =\", end = \" \")\n",
        "hasil_faktorial = faktorial(n_value)\n",
        "print(hasil_faktorial)\n",
        "hasil = hasil_faktorial // k_value\n",
        "print(hasil_faktorial, \"/\", k_value, \"=\", hasil)\n"
      ],
      "metadata": {
        "colab": {
          "base_uri": "https://localhost:8080/"
        },
        "id": "DxxirVh91cjU",
        "outputId": "a52ca3fa-9847-4996-8331-378f7d501d81"
      },
      "execution_count": null,
      "outputs": [
        {
          "output_type": "stream",
          "name": "stdout",
          "text": [
            "nilai n: 5\n",
            "nilai k: 2\n",
            "5 ! = 5 x 4 x 3 x 2 x 1 = 120\n",
            "120 / 2 = 60\n"
          ]
        }
      ]
    },
    {
      "cell_type": "markdown",
      "source": [
        "3. Buatlah sebuah fungsi rekursif untuk menghitung FPB atau pembagi terbesar dari dua bilangan menggunakan algoritma euclid (hint: gunakan mod)"
      ],
      "metadata": {
        "id": "pnn5riMrDEb0"
      }
    },
    {
      "cell_type": "code",
      "source": [
        "# No 3\n",
        "def fpb(a, b):\n",
        "    if b == 0:\n",
        "        return a\n",
        "    else:\n",
        "        return fpb(b, a % b)\n",
        "\n",
        "a_value = int(input(\"nilai a: \"))\n",
        "b_value = int(input(\"nilai b: \"))\n",
        "print(\"FPB dari\", a_value, \"dan\", b_value, \"=\", fpb(a_value, b_value))"
      ],
      "metadata": {
        "colab": {
          "base_uri": "https://localhost:8080/"
        },
        "id": "wQEnk7ac2ZI0",
        "outputId": "8883f3cc-b854-4064-dea8-67c0e162e11f"
      },
      "execution_count": null,
      "outputs": [
        {
          "output_type": "stream",
          "name": "stdout",
          "text": [
            "nilai a: 32\n",
            "nilai b: 24\n",
            "FPB dari 32 dan 24 = 8\n"
          ]
        }
      ]
    }
  ]
}