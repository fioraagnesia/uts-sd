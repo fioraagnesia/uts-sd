{
  "nbformat": 4,
  "nbformat_minor": 0,
  "metadata": {
    "colab": {
      "provenance": []
    },
    "kernelspec": {
      "name": "python3",
      "display_name": "Python 3"
    },
    "language_info": {
      "name": "python"
    }
  },
  "cells": [
    {
      "cell_type": "code",
      "execution_count": null,
      "metadata": {
        "colab": {
          "base_uri": "https://localhost:8080/"
        },
        "id": "nEz8GjJ2v8Dr",
        "outputId": "6216f3fb-7ff0-4bc7-a751-3ca6e62d9012"
      },
      "outputs": [
        {
          "output_type": "stream",
          "name": "stdout",
          "text": [
            "1\n",
            "2\n",
            "3\n"
          ]
        }
      ],
      "source": [
        "# DIRECT RECURSION\n",
        "# Head recursion: rekursinya sebelum operasi/print\n",
        "def function(n):\n",
        "  if (n == 0):\n",
        "    return\n",
        "  function(n-1)   # memanggil dirinya sendiri di dalam fungsi tsb\n",
        "  print(n)        # print dijalankan setelah return\n",
        "                  # setelah return, akan di-backtracking (mundur), makanya jd keprint 123 bkn 321\n",
        "\n",
        "function(3)"
      ]
    },
    {
      "cell_type": "code",
      "source": [
        "# Tail recursion: rekursi di belakang (print dulu baru rekursi)\n",
        "def function(n):\n",
        "  if (n == 0):      # base case\n",
        "    return\n",
        "  else:\n",
        "    print(n)\n",
        "  return function(n-1)\n",
        "\n",
        "function(3)"
      ],
      "metadata": {
        "colab": {
          "base_uri": "https://localhost:8080/"
        },
        "id": "rZmvdfRExe-L",
        "outputId": "1df4109f-66cd-4492-948a-738f29a6c4ff"
      },
      "execution_count": null,
      "outputs": [
        {
          "output_type": "stream",
          "name": "stdout",
          "text": [
            "3\n",
            "2\n",
            "1\n"
          ]
        }
      ]
    },
    {
      "cell_type": "code",
      "source": [
        "# INDIRECT RECURSION\n",
        "def a(n):\n",
        "  if (n>0):\n",
        "    print(\"A:\",n)\n",
        "    b(n-1)\n",
        "\n",
        "def b(n):\n",
        "  if (n>0):\n",
        "    print(\"B:\",n)\n",
        "    a(n-1)\n",
        "\n",
        "a(5)\n"
      ],
      "metadata": {
        "colab": {
          "base_uri": "https://localhost:8080/"
        },
        "id": "vmGVUJqYzCwS",
        "outputId": "1a52bd94-8eae-4f1f-e013-84271d6b8b7a"
      },
      "execution_count": null,
      "outputs": [
        {
          "output_type": "stream",
          "name": "stdout",
          "text": [
            "A: 5\n",
            "B: 4\n",
            "A: 3\n",
            "B: 2\n",
            "A: 1\n"
          ]
        }
      ]
    },
    {
      "cell_type": "code",
      "source": [],
      "metadata": {
        "id": "LMYVZ1C0x-jZ"
      },
      "execution_count": null,
      "outputs": []
    }
  ]
}