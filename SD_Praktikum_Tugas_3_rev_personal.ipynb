{
  "nbformat": 4,
  "nbformat_minor": 0,
  "metadata": {
    "colab": {
      "provenance": []
    },
    "kernelspec": {
      "name": "python3",
      "display_name": "Python 3"
    },
    "language_info": {
      "name": "python"
    }
  },
  "cells": [
    {
      "cell_type": "markdown",
      "source": [
        "1. Given a linked list, the task is to reverse the linked list by changing the links between\n",
        "nodes.\n",
        "Examples:\n",
        "*   Input: Linked List = 1 -> 2 -> 3 -> 4 -> NULL // Output: Reversed Linked List = 4 -> 3 -> 2 -> 1 -> NULL\n",
        "*   Input: Linked List = 1 -> 2 -> 3 -> 4 -> 5 -> NULL // Output: Reversed Linked List = 5 -> 4 -> 3 -> 2 -> 1 -> NULL\n",
        "*   Input: Linked List = NULL // Output: Reversed Linked List = NULL\n",
        "*   Input: Linked List = 1->NULL // Output: Reversed Linked List = 1->NULL"
      ],
      "metadata": {
        "id": "m1m_L1VpJFgn"
      }
    },
    {
      "cell_type": "code",
      "execution_count": null,
      "metadata": {
        "colab": {
          "base_uri": "https://localhost:8080/"
        },
        "id": "8G6lBGinDxdp",
        "outputId": "eb1ddb15-9245-47c6-ed93-7c4eae01cc4c"
      },
      "outputs": [
        {
          "output_type": "stream",
          "name": "stdout",
          "text": [
            "Input List: 1 2 3 4\n",
            "Input: \n",
            "1 2 3 4 \n",
            "Output: \n",
            "4 3 2 1 \n"
          ]
        }
      ],
      "source": [
        "class Node():\n",
        "  def __init__(self, data):\n",
        "    self.data = data\n",
        "    self.next = None\n",
        "\n",
        "class LinearSLL():\n",
        "    def __init__(self):\n",
        "      self.head = None\n",
        "\n",
        "    # ADD\n",
        "    def add(self, data):\n",
        "      new_node = Node(data)\n",
        "      if self.head == None:\n",
        "        self.head = new_node\n",
        "        return\n",
        "      else:\n",
        "        temp = self.head\n",
        "        while temp.next != None:\n",
        "          temp = temp.next\n",
        "        temp.next = new_node\n",
        "\n",
        "    # REVERSED\n",
        "    def reversed(self):\n",
        "      if self.head is None or self.head.next == self.head:\n",
        "        return\n",
        "      before = None\n",
        "      temp = self.head\n",
        "      while (temp != None):\n",
        "        after = temp.next\n",
        "        temp.next = before\n",
        "        before = temp\n",
        "        temp = after\n",
        "        if after == None:\n",
        "          break\n",
        "      self.head = before\n",
        "\n",
        "\n",
        "    # PRINT\n",
        "    def print(self):\n",
        "      temp = self.head\n",
        "      while temp != None:\n",
        "        print(temp.data, end=\" \")\n",
        "        temp = temp.next\n",
        "      print()\n",
        "\n",
        "\n",
        "SLL = LinearSLL()\n",
        "elements = input(\"Input List: \").split()\n",
        "for e in elements:\n",
        "  SLL.add(e)\n",
        "print(\"Input: \")\n",
        "SLL.print()\n",
        "print(\"Output: \")\n",
        "SLL.reversed()\n",
        "SLL.print()"
      ]
    },
    {
      "cell_type": "markdown",
      "source": [
        "2. Given a singly linked list, The task is to rotate the linked list counter-clockwise by k nodes.\n",
        "Examples:\n",
        "*   Input: linked list = 10->20->30->40->50->60, k = 4 // Output: 50->60->10->20->30->40.\n",
        "Explanation: k is smaller than the count of nodes in a linked list so (k+1 )th node i.e. 50 becomes the head node and 60’s next points to 10\n",
        "*   Input: linked list = 30->40->50->60, k = 2 // Output: 50->60->30->40."
      ],
      "metadata": {
        "id": "QYpWztT6JHg8"
      }
    },
    {
      "cell_type": "code",
      "source": [
        "class Node():\n",
        "  def __init__(self, data):\n",
        "    self.data = data\n",
        "    self.next = None\n",
        "\n",
        "class LinearSLL():\n",
        "    def __init__(self):\n",
        "      self.head = None\n",
        "      self.counter = 0\n",
        "\n",
        "    # ADD\n",
        "    def add(self, data):\n",
        "      new_node = Node(data)\n",
        "      if self.head == None:\n",
        "        self.head = new_node\n",
        "        self.head.next = self.head\n",
        "        return\n",
        "      else:\n",
        "        temp = self.head\n",
        "        while temp.next != self.head:\n",
        "          temp = temp.next\n",
        "        temp.next = new_node\n",
        "        new_node.next = self.head\n",
        "      self.counter += 1\n",
        "      return self.counter\n",
        "\n",
        "    # COUNTER CLOCKWISE\n",
        "    def counterclockwise(self, k):\n",
        "      if self.counter > 0:\n",
        "        if k % self.counter == 0:\n",
        "          return\n",
        "        else:\n",
        "          k = k % self.counter          # dari belakang\n",
        "          temp = self.head\n",
        "          for i in range(k-1):\n",
        "            temp = temp.next\n",
        "          start = temp.next\n",
        "          temp.next = None\n",
        "          self.head = start\n",
        "\n",
        "          end = self.head\n",
        "          while end.next:\n",
        "            end = end.next\n",
        "          end.next = self.head\n",
        "\n",
        "    # PRINT\n",
        "    def print(self):\n",
        "      temp = self.head\n",
        "      while (True):\n",
        "        print(temp.data, end=\" \")\n",
        "        temp = temp.next\n",
        "        if temp == self.head:\n",
        "          break\n",
        "      print()\n",
        "\n",
        "\n",
        "SLL = LinearSLL()\n",
        "SLL.add(10)\n",
        "SLL.add(20)\n",
        "SLL.add(30)\n",
        "SLL.add(40)\n",
        "SLL.add(50)\n",
        "SLL.add(60)\n",
        "print(\"Input: \")\n",
        "SLL.print()\n",
        "print(\"k = 4\")\n",
        "print(\"Output: \")\n",
        "SLL.counterclockwise(4)\n",
        "SLL.print()"
      ],
      "metadata": {
        "colab": {
          "base_uri": "https://localhost:8080/"
        },
        "id": "-r028KMKGS2L",
        "outputId": "d4af9da5-91df-4980-f808-178acf63146d"
      },
      "execution_count": null,
      "outputs": [
        {
          "output_type": "stream",
          "name": "stdout",
          "text": [
            "Input: \n",
            "10 20 30 40 50 60 \n",
            "k = 4\n",
            "Output: \n",
            "50\n",
            "40\n",
            "50 60 10 20 30 40 \n"
          ]
        }
      ]
    },
    {
      "cell_type": "code",
      "source": [
        "class Node:\n",
        "  def __init__(self, value):\n",
        "    self.data = value\n",
        "    self.next = None\n",
        "\n",
        "class SingularLinkedList:\n",
        "  def __init__(self):\n",
        "    self.front = None\n",
        "    self.back = None\n",
        "    self.length = 0\n",
        "\n",
        "  def add(self, value):\n",
        "    newNode = Node(value)\n",
        "    if self.front is None:\n",
        "      self.front = newNode\n",
        "    else:\n",
        "      temp = self.front\n",
        "      while temp.next is not None:\n",
        "        temp = temp.next\n",
        "      temp.next = newNode\n",
        "    self.length += 1\n",
        "\n",
        "  def rotate(self, k):\n",
        "    if self.front == None or k == 0 or k >=self.length:\n",
        "      return                            #10->20->30->40->50->60\n",
        "    current = self.front                #10\n",
        "    count = 1\n",
        "    while count< k and current != None:\n",
        "      current = current.next            #20   #30   #40\n",
        "      count += 1                        #2    #3    #4\n",
        "\n",
        "    if current == None:\n",
        "      return\n",
        "\n",
        "    kNode = current                     #40\n",
        "    while current.next != None:\n",
        "      current = current.next            #50 #60\n",
        "    current.next = self.front           #60.next = 10             10 20 30 40 50 60 (10)\n",
        "    self.front = kNode.next             #front = 40.next --> 50   50 60 10 20 30 40 (50)\n",
        "    kNode.next = None                   #40.next --> none         50 60 10 20 30 40 None\n",
        "\n",
        "  def printList(self):\n",
        "    temp = self.front\n",
        "    while temp != None:\n",
        "      print(temp.data, end=\" \")\n",
        "      temp = temp.next\n",
        "    print()\n",
        "\n",
        "myList = SingularLinkedList()\n",
        "myList.add(\"10\")\n",
        "myList.add(\"20\")\n",
        "myList.add(\"30\")\n",
        "myList.add(\"40\")\n",
        "myList.add(\"50\")\n",
        "myList.add(\"60\")\n",
        "\n",
        "print(\"Input: \", end=\" \")\n",
        "myList.printList()\n",
        "\n",
        "myList.rotate(4)\n",
        "\n",
        "print(\"Output: \", end=\" \")\n",
        "myList.printList()"
      ],
      "metadata": {
        "id": "9uNRo8IRAYFS",
        "outputId": "00ff7fad-546c-4468-9c94-5946dc462705",
        "colab": {
          "base_uri": "https://localhost:8080/"
        }
      },
      "execution_count": null,
      "outputs": [
        {
          "output_type": "stream",
          "name": "stdout",
          "text": [
            "Input:  10 20 30 40 50 60 \n",
            "Output:  50 60 10 20 30 40 \n"
          ]
        }
      ]
    },
    {
      "cell_type": "markdown",
      "source": [
        "3. Given two linked lists, insert nodes of the second list into the first list at alternate positions of the first list.\n",
        "  \n",
        "  For example, if first list is 5->7->17->13->11 and second is 12->10->2->4->6, the first list should become 5->12->7->10->17->2->13->4->11->6 and second list should become empty. The nodes of the second list should only be inserted when there are positions available. For example, if the first list is 1->2->3 and second list is 4->5->6->7->8, then first list should become 1->4->2->5->3->6 and second list to 7->8."
      ],
      "metadata": {
        "id": "OgkcI3LyLKST"
      }
    },
    {
      "cell_type": "code",
      "source": [
        "class Node():\n",
        "  def __init__(self, data):\n",
        "    self.data = data\n",
        "    self.next = None\n",
        "\n",
        "class LinearSLL():\n",
        "    def __init__(self):\n",
        "      self.head = None\n",
        "      self.counter = 0\n",
        "\n",
        "    # ADD\n",
        "    def add(self, data):\n",
        "      new_node = Node(data)\n",
        "      if self.head == None:\n",
        "        self.head = new_node\n",
        "        return\n",
        "      else:\n",
        "        temp = self.head\n",
        "        while temp.next != None:\n",
        "          temp = temp.next\n",
        "        temp.next = new_node\n",
        "      self.counter += 1\n",
        "      return self.counter\n",
        "\n",
        "    # SELANG-SELING\n",
        "    def insert(self, list2):\n",
        "      temp1 = self.head\n",
        "      temp2 = list2.head\n",
        "      while temp1 != None and temp2 != None:\n",
        "        next1 = temp1.next\n",
        "        next2 = temp2.next\n",
        "        temp1.next = temp2\n",
        "        temp2.next = next1\n",
        "        temp1 = next1\n",
        "        temp2 = next2\n",
        "      list2.head = temp2\n",
        "\n",
        "\n",
        "    # PRINT\n",
        "    def print(self):\n",
        "      temp = self.head\n",
        "      while (temp is not None):\n",
        "        print(temp.data, end=\" \")\n",
        "        temp = temp.next\n",
        "        if temp == self.head:\n",
        "          break\n",
        "      print()\n",
        "\n",
        "\n",
        "SLL1 = LinearSLL()\n",
        "SLL2 = LinearSLL()\n",
        "elements1 = input(\"Input 1st List: \").split()\n",
        "elements2 = input(\"Input 2nd List: \").split()\n",
        "for e in elements1:\n",
        "  SLL1.add(e)\n",
        "print(\"Input SSL1: \")\n",
        "SLL1.print()\n",
        "for e in elements2:\n",
        "  SLL2.add(e)\n",
        "print(\"Input SSL2: \")\n",
        "SLL2.print()\n",
        "print(\"Output: \")\n",
        "SLL1.insert(SLL2)\n",
        "print(\"SSL1: \")\n",
        "SLL1.print()\n",
        "print(\"SSL2: \")\n",
        "SLL2.print()\n"
      ],
      "metadata": {
        "colab": {
          "base_uri": "https://localhost:8080/"
        },
        "id": "OprZr8UuFXu-",
        "outputId": "51c2782e-2995-4ffa-888c-02cb716f0564"
      },
      "execution_count": null,
      "outputs": [
        {
          "output_type": "stream",
          "name": "stdout",
          "text": [
            "Input 1st List: 1 2 3 4 5\n",
            "Input 2nd List: 6 7 8\n",
            "Input SSL1: \n",
            "1 2 3 4 5 \n",
            "Input SSL2: \n",
            "6 7 8 \n",
            "Output: \n",
            "SSL1: \n",
            "1 6 2 7 3 8 4 5 \n",
            "SSL2: \n",
            "\n"
          ]
        }
      ]
    },
    {
      "cell_type": "markdown",
      "source": [
        "4. Given a singly linked list, write a function to swap elements pairwise.\n",
        "*   Input : 1->2->3->4->5->6->NULL // Output : 2->1->4->3->6->5->NULL\n",
        "*   Input : 1->2->3->4->5->NULL // Output : 2->1->4->3->5->NULL\n",
        "*   Input : 1->NULL, Output : 1->NULL"
      ],
      "metadata": {
        "id": "_6nGJtEsV_74"
      }
    },
    {
      "cell_type": "code",
      "source": [
        "class Node():\n",
        "  def __init__(self, data):\n",
        "    self.data = data\n",
        "    self.next = None\n",
        "\n",
        "class LinearSLL():\n",
        "    def __init__(self):\n",
        "      self.head = None\n",
        "      self.counter = 0\n",
        "\n",
        "    # ADD\n",
        "    def add(self, data):\n",
        "      new_node = Node(data)\n",
        "      if self.head == None:\n",
        "        self.head = new_node\n",
        "        return\n",
        "      else:\n",
        "        temp = self.head\n",
        "        while temp.next != None:\n",
        "          temp = temp.next\n",
        "        temp.next = new_node\n",
        "      self.counter += 1\n",
        "      return self.counter\n",
        "\n",
        "    # SWAP\n",
        "    def swap(self):\n",
        "      temp = self.head\n",
        "      while temp != None and temp.next != None:\n",
        "        temp.data, temp.next.data = temp.next.data, temp.data\n",
        "        temp = temp.next.next           # Loncat ke 2 data berikutnya untuk lanjut\n",
        "\n",
        "\n",
        "    # PRINT\n",
        "    def print(self):\n",
        "      temp = self.head\n",
        "      while (temp is not None):\n",
        "        print(temp.data, end=\" \")\n",
        "        temp = temp.next\n",
        "        if temp == self.head:\n",
        "          break\n",
        "      print()\n",
        "\n",
        "\n",
        "SLL = LinearSLL()\n",
        "elements = input(\"Input List: \").split()\n",
        "for e in elements:\n",
        "  SLL.add(e)\n",
        "print(\"Input: \")\n",
        "SLL.print()\n",
        "print(\"Output: \")\n",
        "SLL.swap()\n",
        "SLL.print()"
      ],
      "metadata": {
        "colab": {
          "base_uri": "https://localhost:8080/"
        },
        "id": "mRdO0fn_WBDa",
        "outputId": "a5bc2f51-0bde-4b2e-8812-33c5adda0a2d"
      },
      "execution_count": null,
      "outputs": [
        {
          "output_type": "stream",
          "name": "stdout",
          "text": [
            "Input List: 1 2 3 4 5\n",
            "Input: \n",
            "1 2 3 4 5 \n",
            "Output: \n",
            "2 1 4 3 5 \n"
          ]
        }
      ]
    }
  ]
}